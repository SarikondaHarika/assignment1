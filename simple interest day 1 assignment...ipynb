{
 "cells": [
  {
   "cell_type": "code",
   "execution_count": 4,
   "metadata": {},
   "outputs": [
    {
     "name": "stdout",
     "output_type": "stream",
     "text": [
      "enter principal amount:345\n",
      "enter the rate of interest:1\n",
      "enter time period in years:2\n",
      "\n",
      "Simple interest for principal amount 345.0=6.9\n"
     ]
    }
   ],
   "source": [
    "principal_amount=float(input(\"enter principal amount:\"))\n",
    "rate_of_interest=float(input(\"enter the rate of interest:\"))\n",
    "time_period=float(input(\"enter time period in years:\"))\n",
    "simple_interest=(principal_amount*rate_of_interest*time_period )/100\n",
    "print(\"\\nSimple interest for principal amount {0}={1}\".format(principal_amount,simple_interest))"
   ]
  },
  {
   "cell_type": "code",
   "execution_count": null,
   "metadata": {},
   "outputs": [],
   "source": []
  },
  {
   "cell_type": "code",
   "execution_count": null,
   "metadata": {},
   "outputs": [],
   "source": []
  }
 ],
 "metadata": {
  "kernelspec": {
   "display_name": "Python 3",
   "language": "python",
   "name": "python3"
  },
  "language_info": {
   "codemirror_mode": {
    "name": "ipython",
    "version": 3
   },
   "file_extension": ".py",
   "mimetype": "text/x-python",
   "name": "python",
   "nbconvert_exporter": "python",
   "pygments_lexer": "ipython3",
   "version": "3.8.5"
  }
 },
 "nbformat": 4,
 "nbformat_minor": 4
}
